{
  "nbformat": 4,
  "nbformat_minor": 0,
  "metadata": {
    "colab": {
      "provenance": [],
      "collapsed_sections": [],
      "mount_file_id": "1K7uQGHO58cDJ_8j1WlOtxJqVUgeUyFKE",
      "authorship_tag": "ABX9TyOCoM2GPKetl6CcvGbvvKHa",
      "include_colab_link": true
    },
    "kernelspec": {
      "name": "python3",
      "display_name": "Python 3"
    },
    "language_info": {
      "name": "python"
    }
  },
  "cells": [
    {
      "cell_type": "markdown",
      "metadata": {
        "id": "view-in-github",
        "colab_type": "text"
      },
      "source": [
        "<a href=\"https://colab.research.google.com/github/boradj/machine-learning/blob/main/computer_vision.ipynb\" target=\"_parent\"><img src=\"https://colab.research.google.com/assets/colab-badge.svg\" alt=\"Open In Colab\"/></a>"
      ]
    },
    {
      "cell_type": "code",
      "execution_count": 1,
      "metadata": {
        "id": "aaU1Mq7lr1Ma"
      },
      "outputs": [],
      "source": [
        "# computer vision\n"
      ]
    },
    {
      "cell_type": "markdown",
      "source": [
        "###Getting data"
      ],
      "metadata": {
        "id": "l0rs_wBjUveh"
      }
    },
    {
      "cell_type": "code",
      "source": [
        "import zipfile\n",
        "!wget https://storage.googleapis.com/ztm_tf_course/food_vision/pizza_steak.zip\n",
        "\n",
        "# Unziping the file\n",
        "zip = zipfile.ZipFile(\"pizza_steak.zip\")\n",
        "zip.extractall()\n",
        "zip.close()"
      ],
      "metadata": {
        "id": "JrbxTQpOzt2c",
        "colab": {
          "base_uri": "https://localhost:8080/"
        },
        "outputId": "e36d80b9-79ba-4463-97a3-d9164dafaf5c"
      },
      "execution_count": 2,
      "outputs": [
        {
          "output_type": "stream",
          "name": "stdout",
          "text": [
            "--2022-10-12 17:05:36--  https://storage.googleapis.com/ztm_tf_course/food_vision/pizza_steak.zip\n",
            "Resolving storage.googleapis.com (storage.googleapis.com)... 142.251.45.16, 172.253.62.128, 172.217.1.208, ...\n",
            "Connecting to storage.googleapis.com (storage.googleapis.com)|142.251.45.16|:443... connected.\n",
            "HTTP request sent, awaiting response... 200 OK\n",
            "Length: 109540975 (104M) [application/zip]\n",
            "Saving to: ‘pizza_steak.zip’\n",
            "\n",
            "pizza_steak.zip     100%[===================>] 104.47M   102MB/s    in 1.0s    \n",
            "\n",
            "2022-10-12 17:05:37 (102 MB/s) - ‘pizza_steak.zip’ saved [109540975/109540975]\n",
            "\n"
          ]
        }
      ]
    },
    {
      "cell_type": "markdown",
      "source": [
        "### looking into data"
      ],
      "metadata": {
        "id": "3uTtrGO1WUPn"
      }
    },
    {
      "cell_type": "code",
      "source": [
        "!ls pizza_steak"
      ],
      "metadata": {
        "id": "hfmkqBxJzt6u",
        "colab": {
          "base_uri": "https://localhost:8080/"
        },
        "outputId": "324daebe-7b2f-4f0c-b31f-532dea33d5f6"
      },
      "execution_count": 3,
      "outputs": [
        {
          "output_type": "stream",
          "name": "stdout",
          "text": [
            "test  train\n"
          ]
        }
      ]
    },
    {
      "cell_type": "code",
      "source": [
        "!ls pizza_steak/train/steak/"
      ],
      "metadata": {
        "id": "ZFTlq_q-zt9j",
        "colab": {
          "base_uri": "https://localhost:8080/"
        },
        "outputId": "8f95dfb3-ca44-43d6-a697-4b57c2c355d5"
      },
      "execution_count": 4,
      "outputs": [
        {
          "output_type": "stream",
          "name": "stdout",
          "text": [
            "1000205.jpg  1647351.jpg  2238681.jpg  2824680.jpg  3375959.jpg  417368.jpg\n",
            "100135.jpg   1650002.jpg  2238802.jpg  2825100.jpg  3381560.jpg  4176.jpg\n",
            "101312.jpg   165639.jpg   2254705.jpg  2826987.jpg  3382936.jpg  42125.jpg\n",
            "1021458.jpg  1658186.jpg  225990.jpg   2832499.jpg  3386119.jpg  421476.jpg\n",
            "1032846.jpg  1658443.jpg  2260231.jpg  2832960.jpg  3388717.jpg  421561.jpg\n",
            "10380.jpg    165964.jpg   2268692.jpg  285045.jpg   3389138.jpg  438871.jpg\n",
            "1049459.jpg  167069.jpg   2271133.jpg  285147.jpg   3393547.jpg  43924.jpg\n",
            "1053665.jpg  1675632.jpg  227576.jpg   2855315.jpg  3393688.jpg  440188.jpg\n",
            "1068516.jpg  1678108.jpg  2283057.jpg  2856066.jpg  3396589.jpg  442757.jpg\n",
            "1068975.jpg  168006.jpg   2286639.jpg  2859933.jpg  339891.jpg\t 443210.jpg\n",
            "1081258.jpg  1682496.jpg  2287136.jpg  286219.jpg   3417789.jpg  444064.jpg\n",
            "1090122.jpg  1684438.jpg  2291292.jpg  2862562.jpg  3425047.jpg  444709.jpg\n",
            "1093966.jpg  168775.jpg   229323.jpg   2865730.jpg  3434983.jpg  447557.jpg\n",
            "1098844.jpg  1697339.jpg  2300534.jpg  2878151.jpg  3435358.jpg  461187.jpg\n",
            "1100074.jpg  1710569.jpg  2300845.jpg  2880035.jpg  3438319.jpg  461689.jpg\n",
            "1105280.jpg  1714605.jpg  231296.jpg   2881783.jpg  3444407.jpg  465494.jpg\n",
            "1117936.jpg  1724387.jpg  2315295.jpg  2884233.jpg  345734.jpg\t 468384.jpg\n",
            "1126126.jpg  1724717.jpg  2323132.jpg  2890573.jpg  3460673.jpg  477486.jpg\n",
            "114601.jpg   172936.jpg   2324994.jpg  2893832.jpg  3465327.jpg  482022.jpg\n",
            "1147047.jpg  1736543.jpg  2327701.jpg  2893892.jpg  3466159.jpg  482465.jpg\n",
            "1147883.jpg  1736968.jpg  2331076.jpg  2907177.jpg  3469024.jpg  483788.jpg\n",
            "1155665.jpg  1746626.jpg  233964.jpg   290850.jpg   3470083.jpg  493029.jpg\n",
            "1163977.jpg  1752330.jpg  2344227.jpg  2909031.jpg  3476564.jpg  503589.jpg\n",
            "1190233.jpg  1761285.jpg  234626.jpg   2910418.jpg  3478318.jpg  510757.jpg\n",
            "1208405.jpg  176508.jpg   234704.jpg   2912290.jpg  3488748.jpg  513129.jpg\n",
            "1209120.jpg  1772039.jpg  2357281.jpg  2916448.jpg  3492328.jpg  513842.jpg\n",
            "1212161.jpg  1777107.jpg  2361812.jpg  2916967.jpg  3518960.jpg  523535.jpg\n",
            "1213988.jpg  1787505.jpg  2365287.jpg  2927833.jpg  3522209.jpg  525041.jpg\n",
            "1219039.jpg  179293.jpg   2374582.jpg  2928643.jpg  3524429.jpg  534560.jpg\n",
            "1225762.jpg  1816235.jpg  239025.jpg   2929179.jpg  3528458.jpg  534633.jpg\n",
            "1230968.jpg  1822407.jpg  2390628.jpg  2936477.jpg  3531805.jpg  536535.jpg\n",
            "1236155.jpg  1823263.jpg  2392910.jpg  2938012.jpg  3536023.jpg  541410.jpg\n",
            "1241193.jpg  1826066.jpg  2394465.jpg  2938151.jpg  3538682.jpg  543691.jpg\n",
            "1248337.jpg  1828502.jpg  2395127.jpg  2939678.jpg  3540750.jpg  560503.jpg\n",
            "1257104.jpg  1828969.jpg  2396291.jpg  2940544.jpg  354329.jpg\t 561972.jpg\n",
            "126345.jpg   1829045.jpg  2400975.jpg  2940621.jpg  3547166.jpg  56240.jpg\n",
            "1264050.jpg  1829088.jpg  2403776.jpg  2949079.jpg  3553911.jpg  56409.jpg\n",
            "1264154.jpg  1836332.jpg  2403907.jpg  295491.jpg   3556871.jpg  564530.jpg\n",
            "1264858.jpg  1839025.jpg  240435.jpg   296268.jpg   355715.jpg\t 568972.jpg\n",
            "127029.jpg   1839481.jpg  2404695.jpg  2964732.jpg  356234.jpg\t 576725.jpg\n",
            "1289900.jpg  183995.jpg   2404884.jpg  2965021.jpg  3571963.jpg  588739.jpg\n",
            "1290362.jpg  184110.jpg   2407770.jpg  2966859.jpg  3576078.jpg  590142.jpg\n",
            "1295457.jpg  184226.jpg   2412263.jpg  2977966.jpg  3577618.jpg  60633.jpg\n",
            "1312841.jpg  1846706.jpg  2425062.jpg  2979061.jpg  3577732.jpg  60655.jpg\n",
            "1313316.jpg  1849364.jpg  2425389.jpg  2983260.jpg  3578934.jpg  606820.jpg\n",
            "1324791.jpg  1849463.jpg  2435316.jpg  2984311.jpg  358042.jpg\t 612551.jpg\n",
            "1327567.jpg  1849542.jpg  2437268.jpg  2988960.jpg  358045.jpg\t 614975.jpg\n",
            "1327667.jpg  1853564.jpg  2437843.jpg  2989882.jpg  3591821.jpg  616809.jpg\n",
            "1333055.jpg  1869467.jpg  2440131.jpg  2995169.jpg  359330.jpg\t 628628.jpg\n",
            "1334054.jpg  1870942.jpg  2443168.jpg  2996324.jpg  3601483.jpg  632427.jpg\n",
            "1335556.jpg  187303.jpg   2446660.jpg  3000131.jpg  3606642.jpg  636594.jpg\n",
            "1337814.jpg  187521.jpg   2455944.jpg  3002350.jpg  3609394.jpg  637374.jpg\n",
            "1340977.jpg  1888450.jpg  2458401.jpg  3007772.jpg  361067.jpg\t 640539.jpg\n",
            "1343209.jpg  1889336.jpg  2487306.jpg  3008192.jpg  3613455.jpg  644777.jpg\n",
            "134369.jpg   1907039.jpg  248841.jpg   3009617.jpg  3621464.jpg  644867.jpg\n",
            "1344105.jpg  1925230.jpg  2489716.jpg  3011642.jpg  3621562.jpg  658189.jpg\n",
            "134598.jpg   1927984.jpg  2490489.jpg  3020591.jpg  3621565.jpg  660900.jpg\n",
            "1346387.jpg  1930577.jpg  2495884.jpg  3030578.jpg  3623556.jpg  663014.jpg\n",
            "1348047.jpg  1937872.jpg  2495903.jpg  3047807.jpg  3640915.jpg  664545.jpg\n",
            "1351372.jpg  1941807.jpg  2499364.jpg  3059843.jpg  3643951.jpg  667075.jpg\n",
            "1362989.jpg  1942333.jpg  2500292.jpg  3074367.jpg  3653129.jpg  669180.jpg\n",
            "1367035.jpg  1945132.jpg  2509017.jpg  3082120.jpg  3656752.jpg  669960.jpg\n",
            "1371177.jpg  1961025.jpg  250978.jpg   3094354.jpg  3663518.jpg  6709.jpg\n",
            "1375640.jpg  1966300.jpg  2514432.jpg  3095301.jpg  3663800.jpg  674001.jpg\n",
            "1382427.jpg  1966967.jpg  2526838.jpg  3099645.jpg  3664376.jpg  676189.jpg\n",
            "1392718.jpg  1969596.jpg  252858.jpg   3100476.jpg  3670607.jpg  681609.jpg\n",
            "1395906.jpg  1971757.jpg  2532239.jpg  3110387.jpg  3671021.jpg  6926.jpg\n",
            "1400760.jpg  1976160.jpg  2534567.jpg  3113772.jpg  3671877.jpg  703556.jpg\n",
            "1403005.jpg  1984271.jpg  2535431.jpg  3116018.jpg  368073.jpg\t 703909.jpg\n",
            "1404770.jpg  1987213.jpg  2535456.jpg  3128952.jpg  368162.jpg\t 704316.jpg\n",
            "140832.jpg   1987639.jpg  2538000.jpg  3130412.jpg  368170.jpg\t 714298.jpg\n",
            "141056.jpg   1995118.jpg  2543081.jpg  3136.jpg     3693649.jpg  720060.jpg\n",
            "141135.jpg   1995252.jpg  2544643.jpg  313851.jpg   3700079.jpg  726083.jpg\n",
            "1413972.jpg  199754.jpg   2547797.jpg  3140083.jpg  3704103.jpg  728020.jpg\n",
            "1421393.jpg  2002400.jpg  2548974.jpg  3140147.jpg  3707493.jpg  732986.jpg\n",
            "1428947.jpg  2011264.jpg  2549316.jpg  3142045.jpg  3716881.jpg  734445.jpg\n",
            "1433912.jpg  2012996.jpg  2561199.jpg  3142618.jpg  3724677.jpg  735441.jpg\n",
            "143490.jpg   2013535.jpg  2563233.jpg  3142674.jpg  3727036.jpg  740090.jpg\n",
            "1445352.jpg  2017387.jpg  256592.jpg   3143192.jpg  3727491.jpg  745189.jpg\n",
            "1446401.jpg  2018173.jpg  2568848.jpg  314359.jpg   3736065.jpg  752203.jpg\n",
            "1453991.jpg  2020613.jpg  2573392.jpg  3157832.jpg  37384.jpg\t 75537.jpg\n",
            "1456841.jpg  2032669.jpg  2592401.jpg  3159818.jpg  3743286.jpg  756655.jpg\n",
            "146833.jpg   203450.jpg   2599817.jpg  3162376.jpg  3745515.jpg  762210.jpg\n",
            "1476404.jpg  2034628.jpg  2603058.jpg  3168620.jpg  3750472.jpg  763690.jpg\n",
            "1485083.jpg  2036920.jpg  2606444.jpg  3171085.jpg  3752362.jpg  767442.jpg\n",
            "1487113.jpg  2038418.jpg  2614189.jpg  317206.jpg   3766099.jpg  786409.jpg\n",
            "148916.jpg   2042975.jpg  2614649.jpg  3173444.jpg  3770370.jpg  80215.jpg\n",
            "149087.jpg   2045647.jpg  2615718.jpg  3180182.jpg  377190.jpg\t 802348.jpg\n",
            "1493169.jpg  2050584.jpg  2619625.jpg  31881.jpg    3777020.jpg  804684.jpg\n",
            "149682.jpg   2052542.jpg  2622140.jpg  3191589.jpg  3777482.jpg  812163.jpg\n",
            "1508094.jpg  2056627.jpg  262321.jpg   3204977.jpg  3781152.jpg  813486.jpg\n",
            "1512226.jpg  2062248.jpg  2625330.jpg  320658.jpg   3787809.jpg  819027.jpg\n",
            "1512347.jpg  2081995.jpg  2628106.jpg  3209173.jpg  3788729.jpg  822550.jpg\n",
            "1524526.jpg  2087958.jpg  2629750.jpg  3223400.jpg  3790962.jpg  823766.jpg\n",
            "1530833.jpg  2088030.jpg  2643906.jpg  3223601.jpg  3792514.jpg  827764.jpg\n",
            "1539499.jpg  2088195.jpg  2644457.jpg  3241894.jpg  379737.jpg\t 830007.jpg\n",
            "1541672.jpg  2090493.jpg  2648423.jpg  3245533.jpg  3807440.jpg  838344.jpg\n",
            "1548239.jpg  2090504.jpg  2651300.jpg  3245622.jpg  381162.jpg\t 853327.jpg\n",
            "1550997.jpg  2125877.jpg  2653594.jpg  3247009.jpg  3812039.jpg  854150.jpg\n",
            "1552530.jpg  2129685.jpg  2661577.jpg  3253588.jpg  3829392.jpg  864997.jpg\n",
            "15580.jpg    2133717.jpg  2668916.jpg  3260624.jpg  3830872.jpg  885571.jpg\n",
            "1559052.jpg  2136662.jpg  268444.jpg   326587.jpg   38442.jpg\t 907107.jpg\n",
            "1563266.jpg  213765.jpg   2691461.jpg  32693.jpg    3855584.jpg  908261.jpg\n",
            "1567554.jpg  2138335.jpg  2706403.jpg  3271253.jpg  3857508.jpg  910672.jpg\n",
            "1575322.jpg  2140776.jpg  270687.jpg   3274423.jpg  386335.jpg\t 911803.jpg\n",
            "1588879.jpg  214320.jpg   2707522.jpg  3280453.jpg  3867460.jpg  91432.jpg\n",
            "1594719.jpg  2146963.jpg  2711806.jpg  3298495.jpg  3868959.jpg  914570.jpg\n",
            "1595869.jpg  215222.jpg   2716993.jpg  330182.jpg   3869679.jpg  922752.jpg\n",
            "1598345.jpg  2154126.jpg  2724554.jpg  3306627.jpg  388776.jpg\t 923772.jpg\n",
            "1598885.jpg  2154779.jpg  2738227.jpg  3315727.jpg  3890465.jpg  926414.jpg\n",
            "1600179.jpg  2159975.jpg  2748917.jpg  331860.jpg   3894222.jpg  931356.jpg\n",
            "1600794.jpg  2163079.jpg  2760475.jpg  332232.jpg   3895825.jpg  937133.jpg\n",
            "160552.jpg   217250.jpg   2761427.jpg  3322909.jpg  389739.jpg\t 945791.jpg\n",
            "1606596.jpg  2172600.jpg  2765887.jpg  332557.jpg   3916407.jpg  947877.jpg\n",
            "1615395.jpg  2173084.jpg  2768451.jpg  3326734.jpg  393349.jpg\t 952407.jpg\n",
            "1618011.jpg  217996.jpg   2771149.jpg  3330642.jpg  393494.jpg\t 952437.jpg\n",
            "1619357.jpg  2193684.jpg  2779040.jpg  3333128.jpg  398288.jpg\t 955466.jpg\n",
            "1621763.jpg  220341.jpg   2788312.jpg  3333735.jpg  40094.jpg\t 9555.jpg\n",
            "1623325.jpg  22080.jpg\t  2788759.jpg  3334973.jpg  401094.jpg\t 961341.jpg\n",
            "1624450.jpg  2216146.jpg  2796102.jpg  3335013.jpg  401144.jpg\t 97656.jpg\n",
            "1624747.jpg  2222018.jpg  280284.jpg   3335267.jpg  401651.jpg\t 979110.jpg\n",
            "1628861.jpg  2223787.jpg  2807888.jpg  3346787.jpg  405173.jpg\t 980247.jpg\n",
            "1632774.jpg  2230959.jpg  2815172.jpg  3364420.jpg  405794.jpg\t 982988.jpg\n",
            "1636831.jpg  2232310.jpg  2818805.jpg  336637.jpg   40762.jpg\t 987732.jpg\n",
            "1645470.jpg  2233395.jpg  2823872.jpg  3372616.jpg  413325.jpg\t 996684.jpg\n"
          ]
        }
      ]
    },
    {
      "cell_type": "code",
      "source": [
        "import os\n",
        "for dirpath, dirnames, filenames in os.walk(\"pizza_steak\"):\n",
        "  print(f\" There are {len(dirnames)} directories and {len(filenames)} images in '{dirpath}'.\")"
      ],
      "metadata": {
        "colab": {
          "base_uri": "https://localhost:8080/"
        },
        "id": "xL-mvuxAWjgU",
        "outputId": "496d600e-974e-4db7-92cc-07bd5ab72a94"
      },
      "execution_count": 5,
      "outputs": [
        {
          "output_type": "stream",
          "name": "stdout",
          "text": [
            " There are 2 directories and 0 images in 'pizza_steak'.\n",
            " There are 2 directories and 0 images in 'pizza_steak/train'.\n",
            " There are 0 directories and 750 images in 'pizza_steak/train/pizza'.\n",
            " There are 0 directories and 750 images in 'pizza_steak/train/steak'.\n",
            " There are 2 directories and 0 images in 'pizza_steak/test'.\n",
            " There are 0 directories and 250 images in 'pizza_steak/test/pizza'.\n",
            " There are 0 directories and 250 images in 'pizza_steak/test/steak'.\n"
          ]
        }
      ]
    },
    {
      "cell_type": "code",
      "source": [
        "!ls -la pizza_steak # no extra"
      ],
      "metadata": {
        "colab": {
          "base_uri": "https://localhost:8080/"
        },
        "id": "4Y1rCRcuWjn-",
        "outputId": "8b002936-10af-4424-b922-6622ee67c43f"
      },
      "execution_count": 6,
      "outputs": [
        {
          "output_type": "stream",
          "name": "stdout",
          "text": [
            "total 16\n",
            "drwxr-xr-x 4 root root 4096 Oct 12 17:05 .\n",
            "drwxr-xr-x 1 root root 4096 Oct 12 17:05 ..\n",
            "drwxr-xr-x 4 root root 4096 Oct 12 17:05 test\n",
            "drwxr-xr-x 4 root root 4096 Oct 12 17:05 train\n"
          ]
        }
      ]
    },
    {
      "cell_type": "code",
      "source": [
        "num_steak_images_train = len(os.listdir(\"pizza_steak/train/steak\"))\n",
        "num_steak_images_train"
      ],
      "metadata": {
        "colab": {
          "base_uri": "https://localhost:8080/"
        },
        "id": "62EHAziYWjrA",
        "outputId": "5e768612-ac42-4d73-a742-599bb19437f6"
      },
      "execution_count": 7,
      "outputs": [
        {
          "output_type": "execute_result",
          "data": {
            "text/plain": [
              "750"
            ]
          },
          "metadata": {},
          "execution_count": 7
        }
      ]
    },
    {
      "cell_type": "code",
      "source": [
        "import pathlib\n",
        "import numpy as np\n",
        "data_dir = pathlib.Path(\"pizza_steak/train\")\n",
        "class_names = np.array(sorted([item.name for item in data_dir.glob(\"*\")]))\n",
        "class_names = class_names[0:]\n",
        "print(class_names)"
      ],
      "metadata": {
        "colab": {
          "base_uri": "https://localhost:8080/"
        },
        "id": "zxW9ikH5Xegg",
        "outputId": "5aaeb676-5edb-45ac-da98-5f13ed3fd42e"
      },
      "execution_count": 8,
      "outputs": [
        {
          "output_type": "stream",
          "name": "stdout",
          "text": [
            "['pizza' 'steak']\n"
          ]
        }
      ]
    },
    {
      "cell_type": "code",
      "source": [
        "import matplotlib.pyplot as plt\n",
        "import matplotlib.image as mpimg\n",
        "import random\n",
        "def view_random_image(target_dir, target_class):\n",
        "  target_folder = target_dir+target_class\n",
        "  random_image = random.sample(os.listdir(target_folder), 1)\n",
        "  print(random_image)\n",
        "  img = mpimg.imread(target_folder\n",
        "                     +\"/\" +random_image[0])\n",
        "  plt.imshow(img)\n",
        "  plt.title(target_class)\n",
        "  plt.axis(\"off\");\n",
        "\n",
        "  print(f\"Image shape: {img.shape}\")\n",
        "  return img"
      ],
      "metadata": {
        "id": "_OTQD_KsXekF"
      },
      "execution_count": 9,
      "outputs": []
    },
    {
      "cell_type": "code",
      "source": [
        "img = view_random_image(target_dir = \"pizza_steak/train/\",\n",
        "                        target_class = \"steak\")"
      ],
      "metadata": {
        "colab": {
          "base_uri": "https://localhost:8080/",
          "height": 299
        },
        "id": "_HvEGFL-XenE",
        "outputId": "3988022b-a90c-4f93-b655-fcd35b8f1308"
      },
      "execution_count": 10,
      "outputs": [
        {
          "output_type": "stream",
          "name": "stdout",
          "text": [
            "['368162.jpg']\n",
            "Image shape: (512, 384, 3)\n"
          ]
        },
        {
          "output_type": "display_data",
          "data": {
            "text/plain": [
              "<Figure size 432x288 with 1 Axes>"
            ],
            "image/png": "[encoded data removed]"
          },
          "metadata": {
            "needs_background": "light"
          }
        }
      ]
    },
    {
      "cell_type": "code",
      "source": [
        "img"
      ],
      "metadata": {
        "colab": {
          "base_uri": "https://localhost:8080/"
        },
        "id": "yP3Qn6u2XeqK",
        "outputId": "4f8f3dad-56fa-4478-be18-35af48891378"
      },
      "execution_count": 11,
      "outputs": [
        {
          "output_type": "execute_result",
          "data": {
            "text/plain": [
              "array([[[255, 254, 255],\n",
              "        [255, 254, 255],\n",
              "        [255, 254, 255],\n",
              "        ...,\n",
              "        [164, 153, 149],\n",
              "        [163, 152, 148],\n",
              "        [162, 151, 147]],\n",
              "\n",
              "       [[255, 254, 255],\n",
              "        [255, 254, 255],\n",
              "        [255, 254, 255],\n",
              "        ...,\n",
              "        [164, 153, 149],\n",
              "        [163, 152, 148],\n",
              "        [162, 151, 147]],\n",
              "\n",
              "       [[255, 254, 255],\n",
              "        [255, 254, 255],\n",
              "        [255, 254, 255],\n",
              "        ...,\n",
              "        [165, 154, 150],\n",
              "        [164, 153, 149],\n",
              "        [163, 152, 148]],\n",
              "\n",
              "       ...,\n",
              "\n",
              "       [[  8,   8,   8],\n",
              "        [  6,   6,   6],\n",
              "        [  5,   5,   5],\n",
              "        ...,\n",
              "        [111, 111, 103],\n",
              "        [110, 110, 102],\n",
              "        [109, 109, 101]],\n",
              "\n",
              "       [[  7,   7,   7],\n",
              "        [  6,   6,   6],\n",
              "        [  5,   5,   5],\n",
              "        ...,\n",
              "        [110, 110, 102],\n",
              "        [112, 112, 104],\n",
              "        [114, 114, 104]],\n",
              "\n",
              "       [[  6,   6,   6],\n",
              "        [  5,   5,   5],\n",
              "        [  4,   4,   4],\n",
              "        ...,\n",
              "        [110, 110, 102],\n",
              "        [113, 113, 103],\n",
              "        [117, 117, 107]]], dtype=uint8)"
            ]
          },
          "metadata": {},
          "execution_count": 11
        }
      ]
    },
    {
      "cell_type": "code",
      "source": [
        "import tensorflow as tf\n",
        "tf.constant(img)"
      ],
      "metadata": {
        "colab": {
          "base_uri": "https://localhost:8080/"
        },
        "id": "Jfjj9XJQXes7",
        "outputId": "f42d6e22-7930-40b4-9c40-d97dc7bb09b9"
      },
      "execution_count": 12,
      "outputs": [
        {
          "output_type": "execute_result",
          "data": {
            "text/plain": [
              "<tf.Tensor: shape=(512, 384, 3), dtype=uint8, numpy=\n",
              "array([[[255, 254, 255],\n",
              "        [255, 254, 255],\n",
              "        [255, 254, 255],\n",
              "        ...,\n",
              "        [164, 153, 149],\n",
              "        [163, 152, 148],\n",
              "        [162, 151, 147]],\n",
              "\n",
              "       [[255, 254, 255],\n",
              "        [255, 254, 255],\n",
              "        [255, 254, 255],\n",
              "        ...,\n",
              "        [164, 153, 149],\n",
              "        [163, 152, 148],\n",
              "        [162, 151, 147]],\n",
              "\n",
              "       [[255, 254, 255],\n",
              "        [255, 254, 255],\n",
              "        [255, 254, 255],\n",
              "        ...,\n",
              "        [165, 154, 150],\n",
              "        [164, 153, 149],\n",
              "        [163, 152, 148]],\n",
              "\n",
              "       ...,\n",
              "\n",
              "       [[  8,   8,   8],\n",
              "        [  6,   6,   6],\n",
              "        [  5,   5,   5],\n",
              "        ...,\n",
              "        [111, 111, 103],\n",
              "        [110, 110, 102],\n",
              "        [109, 109, 101]],\n",
              "\n",
              "       [[  7,   7,   7],\n",
              "        [  6,   6,   6],\n",
              "        [  5,   5,   5],\n",
              "        ...,\n",
              "        [110, 110, 102],\n",
              "        [112, 112, 104],\n",
              "        [114, 114, 104]],\n",
              "\n",
              "       [[  6,   6,   6],\n",
              "        [  5,   5,   5],\n",
              "        [  4,   4,   4],\n",
              "        ...,\n",
              "        [110, 110, 102],\n",
              "        [113, 113, 103],\n",
              "        [117, 117, 107]]], dtype=uint8)>"
            ]
          },
          "metadata": {},
          "execution_count": 12
        }
      ]
    },
    {
      "cell_type": "code",
      "source": [
        "img.shape"
      ],
      "metadata": {
        "colab": {
          "base_uri": "https://localhost:8080/"
        },
        "id": "HfKy60WgXevZ",
        "outputId": "039d1bdd-92fa-4394-d98a-3c93ddb95f45"
      },
      "execution_count": 13,
      "outputs": [
        {
          "output_type": "execute_result",
          "data": {
            "text/plain": [
              "(512, 384, 3)"
            ]
          },
          "metadata": {},
          "execution_count": 13
        }
      ]
    },
    {
      "cell_type": "code",
      "source": [
        "# transferring value in between 0 and 255 to use as input for neural network"
      ],
      "metadata": {
        "id": "ogO_IYVKXex0"
      },
      "execution_count": 14,
      "outputs": []
    },
    {
      "cell_type": "code",
      "source": [
        "#scaling\n",
        "img/255"
      ],
      "metadata": {
        "colab": {
          "base_uri": "https://localhost:8080/"
        },
        "id": "YRGw-zkcXe0x",
        "outputId": "2dbe7871-5f09-40d3-9da7-7251756b8283"
      },
      "execution_count": 15,
      "outputs": [
        {
          "output_type": "execute_result",
          "data": {
            "text/plain": [
              "array([[[1.        , 0.99607843, 1.        ],\n",
              "        [1.        , 0.99607843, 1.        ],\n",
              "        [1.        , 0.99607843, 1.        ],\n",
              "        ...,\n",
              "        [0.64313725, 0.6       , 0.58431373],\n",
              "        [0.63921569, 0.59607843, 0.58039216],\n",
              "        [0.63529412, 0.59215686, 0.57647059]],\n",
              "\n",
              "       [[1.        , 0.99607843, 1.        ],\n",
              "        [1.        , 0.99607843, 1.        ],\n",
              "        [1.        , 0.99607843, 1.        ],\n",
              "        ...,\n",
              "        [0.64313725, 0.6       , 0.58431373],\n",
              "        [0.63921569, 0.59607843, 0.58039216],\n",
              "        [0.63529412, 0.59215686, 0.57647059]],\n",
              "\n",
              "       [[1.        , 0.99607843, 1.        ],\n",
              "        [1.        , 0.99607843, 1.        ],\n",
              "        [1.        , 0.99607843, 1.        ],\n",
              "        ...,\n",
              "        [0.64705882, 0.60392157, 0.58823529],\n",
              "        [0.64313725, 0.6       , 0.58431373],\n",
              "        [0.63921569, 0.59607843, 0.58039216]],\n",
              "\n",
              "       ...,\n",
              "\n",
              "       [[0.03137255, 0.03137255, 0.03137255],\n",
              "        [0.02352941, 0.02352941, 0.02352941],\n",
              "        [0.01960784, 0.01960784, 0.01960784],\n",
              "        ...,\n",
              "        [0.43529412, 0.43529412, 0.40392157],\n",
              "        [0.43137255, 0.43137255, 0.4       ],\n",
              "        [0.42745098, 0.42745098, 0.39607843]],\n",
              "\n",
              "       [[0.02745098, 0.02745098, 0.02745098],\n",
              "        [0.02352941, 0.02352941, 0.02352941],\n",
              "        [0.01960784, 0.01960784, 0.01960784],\n",
              "        ...,\n",
              "        [0.43137255, 0.43137255, 0.4       ],\n",
              "        [0.43921569, 0.43921569, 0.40784314],\n",
              "        [0.44705882, 0.44705882, 0.40784314]],\n",
              "\n",
              "       [[0.02352941, 0.02352941, 0.02352941],\n",
              "        [0.01960784, 0.01960784, 0.01960784],\n",
              "        [0.01568627, 0.01568627, 0.01568627],\n",
              "        ...,\n",
              "        [0.43137255, 0.43137255, 0.4       ],\n",
              "        [0.44313725, 0.44313725, 0.40392157],\n",
              "        [0.45882353, 0.45882353, 0.41960784]]])"
            ]
          },
          "metadata": {},
          "execution_count": 15
        }
      ]
    },
    {
      "cell_type": "code",
      "source": [
        "# cnn\n",
        "import tensorflow as tf\n",
        "from tensorflow.keras.preprocessing.image import ImageDataGenerator\n",
        "\n",
        "tf.random.set_seed(42)\n",
        "\n",
        "train_datagen = ImageDataGenerator(rescale = 1./255)\n",
        "valid_datagen = ImageDataGenerator(rescale = 1./255)\n",
        "\n",
        "train_dir = \"/content/pizza_steak/train\"\n",
        "test_dir = \"pizza_steak/test\"\n",
        "\n",
        "train_data = train_datagen.flow_from_directory(directory=train_dir,\n",
        "                                               batch_size=32,\n",
        "                                               target_size=(224, 224),\n",
        "                                               class_mode=\"binary\",\n",
        "                                               seed=42)\n",
        "valid_data = valid_datagen.flow_from_directory(directory=test_dir,\n",
        "                                               batch_size=32,\n",
        "                                               target_size=(224,224),\n",
        "                                               class_mode=\"binary\",\n",
        "                                               seed=42)\n",
        "# build model\n",
        "model_1 = tf.keras.models.Sequential([\n",
        "    tf.keras.layers.Conv2D(filters= 10,\n",
        "                           kernel_size =3,\n",
        "                           activation=\"relu\",\n",
        "                           input_shape=(224, 224, 3)),\n",
        "   tf.keras.layers.Conv2D(10, 3, activation=\"relu\"),\n",
        "   tf.keras.layers.MaxPool2D(pool_size=2,\n",
        "                             padding= \"valid\"),\n",
        "   tf.keras.layers.Conv2D(10, 3, activation=\"relu\"),\n",
        "   tf.keras.layers.Conv2D(10, 3, activation=\"relu\"),\n",
        "   tf.keras.layers.MaxPool2D(2),\n",
        "   tf.keras.layers.Flatten(),\n",
        "   tf.keras.layers.Dense(1, activation=\"sigmoid\")\n",
        "])\n",
        "\n",
        "#compile\n",
        "model_1.compile(loss=\"binary_crossentropy\",\n",
        "                optimizer=tf.keras.optimizers.Adam(),\n",
        "                metrics=[\"accuracy\"])\n",
        "\n",
        "#Fit\n",
        "history_1 = model_1.fit(train_data,\n",
        "                        epochs=5,\n",
        "                        steps_per_epoch=len(train_data),\n",
        "                        validation_data = valid_data,\n",
        "                        validation_steps= len(valid_data))\n"
      ],
      "metadata": {
        "colab": {
          "base_uri": "https://localhost:8080/"
        },
        "id": "jM0LFYeMXfb2",
        "outputId": "595597ac-ccfa-42f8-fff3-c2870bc719b0"
      },
      "execution_count": 16,
      "outputs": [
        {
          "output_type": "stream",
          "name": "stdout",
          "text": [
            "Found 1500 images belonging to 2 classes.\n",
            "Found 500 images belonging to 2 classes.\n",
            "Epoch 1/5\n",
            "47/47 [==============================] - 117s 2s/step - loss: 0.5777 - accuracy: 0.6633 - val_loss: 0.4081 - val_accuracy: 0.8120\n",
            "Epoch 2/5\n",
            "47/47 [==============================] - 107s 2s/step - loss: 0.4319 - accuracy: 0.8073 - val_loss: 0.3564 - val_accuracy: 0.8660\n",
            "Epoch 3/5\n",
            "47/47 [==============================] - 107s 2s/step - loss: 0.3987 - accuracy: 0.8247 - val_loss: 0.3420 - val_accuracy: 0.8620\n",
            "Epoch 4/5\n",
            "47/47 [==============================] - 115s 2s/step - loss: 0.3566 - accuracy: 0.8513 - val_loss: 0.3055 - val_accuracy: 0.8720\n",
            "Epoch 5/5\n",
            "47/47 [==============================] - 107s 2s/step - loss: 0.3156 - accuracy: 0.8747 - val_loss: 0.3164 - val_accuracy: 0.8440\n"
          ]
        }
      ]
    },
    {
      "cell_type": "markdown",
      "source": [
        "[playground](https://colab.research.google.com/drive/1K7uQGHO58cDJ_8j1WlOtxJqVUgeUyFKE#scrollTo=h9te-d-7jne-)"
      ],
      "metadata": {
        "id": "h9te-d-7jne-"
      }
    },
    {
      "cell_type": "code",
      "source": [
        "tf.random.set_seed(42)\n",
        "\n",
        "model_2 = tf.keras.Sequential([\n",
        "    tf.keras.layers.Flatten(input_shape=(224, 224, 3)),\n",
        "    tf.keras.layers.Dense(4, activation=\"relu\"),\n",
        "    tf.keras.layers.Dense(4, activation=\"relu\"),\n",
        "    tf.keras.layers.Dense(1, activation=\"sigmoid\")\n",
        "])\n",
        "\n",
        "model_2.compile(loss=\"binary_crossentropy\",\n",
        "                optimizer=tf.keras.optimizers.Adam(),\n",
        "                metrics=[\"accuracy\"])\n",
        "\n",
        "history_2 = model_2.fit(train_data,\n",
        "                        epochs=5,\n",
        "                        steps_per_epoch=len(train_data),\n",
        "                        validation_data=valid_data,\n",
        "                        validation_steps=len(valid_data))"
      ],
      "metadata": {
        "colab": {
          "base_uri": "https://localhost:8080/"
        },
        "id": "itmUbSPQj1YF",
        "outputId": "0f619fd2-bc84-4d6a-d912-ae7688bac2da"
      },
      "execution_count": 18,
      "outputs": [
        {
          "output_type": "stream",
          "name": "stdout",
          "text": [
            "Epoch 1/5\n",
            "47/47 [==============================] - 13s 269ms/step - loss: 1.0877 - accuracy: 0.4907 - val_loss: 0.6932 - val_accuracy: 0.5000\n",
            "Epoch 2/5\n",
            "47/47 [==============================] - 14s 307ms/step - loss: 0.6932 - accuracy: 0.5000 - val_loss: 0.6932 - val_accuracy: 0.5000\n",
            "Epoch 3/5\n",
            "47/47 [==============================] - 14s 290ms/step - loss: 0.6932 - accuracy: 0.5000 - val_loss: 0.6932 - val_accuracy: 0.5000\n",
            "Epoch 4/5\n",
            "47/47 [==============================] - 14s 305ms/step - loss: 0.6932 - accuracy: 0.5000 - val_loss: 0.6932 - val_accuracy: 0.5000\n",
            "Epoch 5/5\n",
            "47/47 [==============================] - 12s 262ms/step - loss: 0.6932 - accuracy: 0.5000 - val_loss: 0.6932 - val_accuracy: 0.5000\n"
          ]
        }
      ]
    },
    {
      "cell_type": "code",
      "source": [
        "# Set random seed\n",
        "tf.random.set_seed(42)\n",
        "\n",
        "# Create a model similar to model_1 but add an extra layer and increase the number of hidden units in each layer\n",
        "model_3 = tf.keras.Sequential([\n",
        "  tf.keras.layers.Flatten(input_shape=(224, 224, 3)), # dense layers expect a 1-dimensional vector as input\n",
        "  tf.keras.layers.Dense(100, activation='relu'), # increase number of neurons from 4 to 100 (for each layer)\n",
        "  tf.keras.layers.Dense(100, activation='relu'),\n",
        "  tf.keras.layers.Dense(100, activation='relu'), # add an extra layer\n",
        "  tf.keras.layers.Dense(1, activation='sigmoid')\n",
        "])\n",
        "\n",
        "# Compile the model\n",
        "model_3.compile(loss='binary_crossentropy',\n",
        "              optimizer=tf.keras.optimizers.Adam(),\n",
        "              metrics=[\"accuracy\"])\n",
        "\n",
        "# Fit the model\n",
        "history_3 = model_3.fit(train_data,\n",
        "                        epochs=5,\n",
        "                        steps_per_epoch=len(train_data),\n",
        "                        validation_data=valid_data,\n",
        "                        validation_steps=len(valid_data))"
      ],
      "metadata": {
        "id": "HM_n6LiLcFfT",
        "colab": {
          "base_uri": "https://localhost:8080/"
        },
        "outputId": "58122d05-7b19-45e5-8f96-1dc984c006e8"
      },
      "execution_count": 22,
      "outputs": [
        {
          "output_type": "stream",
          "name": "stdout",
          "text": [
            "Epoch 1/5\n",
            "47/47 [==============================] - 18s 367ms/step - loss: 3.3764 - accuracy: 0.6240 - val_loss: 0.7700 - val_accuracy: 0.7540\n",
            "Epoch 2/5\n",
            "47/47 [==============================] - 16s 339ms/step - loss: 1.6299 - accuracy: 0.6840 - val_loss: 0.5222 - val_accuracy: 0.7840\n",
            "Epoch 3/5\n",
            "47/47 [==============================] - 17s 369ms/step - loss: 0.6196 - accuracy: 0.7307 - val_loss: 0.6715 - val_accuracy: 0.7380\n",
            "Epoch 4/5\n",
            "47/47 [==============================] - 16s 343ms/step - loss: 0.5132 - accuracy: 0.7873 - val_loss: 0.7853 - val_accuracy: 0.6620\n",
            "Epoch 5/5\n",
            "47/47 [==============================] - 16s 345ms/step - loss: 0.4707 - accuracy: 0.8007 - val_loss: 0.7680 - val_accuracy: 0.6720\n"
          ]
        }
      ]
    },
    {
      "cell_type": "code",
      "source": [
        "model_3.summary()"
      ],
      "metadata": {
        "id": "W9MmvrmDcFiZ",
        "colab": {
          "base_uri": "https://localhost:8080/"
        },
        "outputId": "241ef8e4-2b0e-4212-826e-1439fa36d675"
      },
      "execution_count": 23,
      "outputs": [
        {
          "output_type": "stream",
          "name": "stdout",
          "text": [
            "Model: \"sequential_6\"\n",
            "_________________________________________________________________\n",
            " Layer (type)                Output Shape              Param #   \n",
            "=================================================================\n",
            " flatten_6 (Flatten)         (None, 150528)            0         \n",
            "                                                                 \n",
            " dense_19 (Dense)            (None, 100)               15052900  \n",
            "                                                                 \n",
            " dense_20 (Dense)            (None, 100)               10100     \n",
            "                                                                 \n",
            " dense_21 (Dense)            (None, 100)               10100     \n",
            "                                                                 \n",
            " dense_22 (Dense)            (None, 1)                 101       \n",
            "                                                                 \n",
            "=================================================================\n",
            "Total params: 15,073,201\n",
            "Trainable params: 15,073,201\n",
            "Non-trainable params: 0\n",
            "_________________________________________________________________\n"
          ]
        }
      ]
    },
    {
      "cell_type": "code",
      "source": [
        "# Visualize data (requires function 'view_random_image' above)\n",
        "plt.figure()\n",
        "plt.subplot(1, 2, 1)\n",
        "steak_img = view_random_image(\"pizza_steak/train/\", \"steak\")\n",
        "plt.subplot(1, 2, 2)\n",
        "pizza_img = view_random_image(\"pizza_steak/train/\", \"pizza\")"
      ],
      "metadata": {
        "id": "e9yvgRtHcFlW"
      },
      "execution_count": null,
      "outputs": []
    },
    {
      "cell_type": "code",
      "source": [
        "# Define training and test directory paths\n",
        "train_dir = \"pizza_steak/train/\"\n",
        "test_dir = \"pizza_steak/test/\""
      ],
      "metadata": {
        "id": "OgZghDOkcFpy"
      },
      "execution_count": null,
      "outputs": []
    },
    {
      "cell_type": "code",
      "source": [
        "# Create train and test data generators and rescale the data \n",
        "from tensorflow.keras.preprocessing.image import ImageDataGenerator\n",
        "train_datagen = ImageDataGenerator(rescale=1/255.)\n",
        "test_datagen = ImageDataGenerator(rescale=1/255.)"
      ],
      "metadata": {
        "id": "cNpdOZfWcFt2"
      },
      "execution_count": null,
      "outputs": []
    },
    {
      "cell_type": "code",
      "source": [
        "# Turn it into batches\n",
        "train_data = train_datagen.flow_from_directory(directory=train_dir,\n",
        "                                               target_size=(224, 224),\n",
        "                                               class_mode='binary',\n",
        "                                               batch_size=32)\n",
        "\n",
        "test_data = test_datagen.flow_from_directory(directory=test_dir,\n",
        "                                             target_size=(224, 224),\n",
        "                                             class_mode='binary',\n",
        "                                             batch_size=32)"
      ],
      "metadata": {
        "id": "qyQqCc6-cFy0"
      },
      "execution_count": null,
      "outputs": []
    },
    {
      "cell_type": "code",
      "source": [
        "# Get a sample of the training data batch \n",
        "images, labels = train_data.next() # get the 'next' batch of images/labels\n",
        "len(images), len(labels)"
      ],
      "metadata": {
        "id": "Rx1XVJpKcF5a"
      },
      "execution_count": null,
      "outputs": []
    },
    {
      "cell_type": "code",
      "source": [
        "# Get the first two images\n",
        "images[:2], images[0].shape"
      ],
      "metadata": {
        "id": "wEZP78CAcGBy"
      },
      "execution_count": null,
      "outputs": []
    },
    {
      "cell_type": "code",
      "source": [
        "# View the first batch of labels\n",
        "labels"
      ],
      "metadata": {
        "id": "LLxiuFymcGEv"
      },
      "execution_count": null,
      "outputs": []
    },
    {
      "cell_type": "code",
      "source": [
        "# Make the creating of our model a little easier\n",
        "from tensorflow.keras.optimizers import Adam\n",
        "from tensorflow.keras.layers import Dense, Flatten, Conv2D, MaxPool2D, Activation\n",
        "from tensorflow.keras import Sequential"
      ],
      "metadata": {
        "id": "axsSXW3QcGSh"
      },
      "execution_count": null,
      "outputs": []
    },
    {
      "cell_type": "code",
      "source": [
        "# Create the model (this can be our baseline, a 3 layer Convolutional Neural Network)\n",
        "model_4 = Sequential([\n",
        "  Conv2D(filters=10, \n",
        "         kernel_size=3, \n",
        "         strides=1,\n",
        "         padding='valid',\n",
        "         activation='relu', \n",
        "         input_shape=(224, 224, 3)), # input layer (specify input shape)\n",
        "  Conv2D(10, 3, activation='relu'),\n",
        "  Conv2D(10, 3, activation='relu'),\n",
        "  Flatten(),\n",
        "  Dense(1, activation='sigmoid') # output layer (specify output shape)\n",
        "])"
      ],
      "metadata": {
        "id": "OkqJwDOtTcPY"
      },
      "execution_count": null,
      "outputs": []
    },
    {
      "cell_type": "code",
      "source": [
        "# Compile the model\n",
        "model_4.compile(loss='binary_crossentropy',\n",
        "                optimizer=Adam(),\n",
        "                metrics=['accuracy'])"
      ],
      "metadata": {
        "id": "7mB4dRzVTcRU"
      },
      "execution_count": null,
      "outputs": []
    },
    {
      "cell_type": "code",
      "source": [
        "# Check lengths of training and test data generators\n",
        "len(train_data), len(test_data)"
      ],
      "metadata": {
        "id": "ayte1OlrTcUc"
      },
      "execution_count": null,
      "outputs": []
    },
    {
      "cell_type": "code",
      "source": [
        "# Fit the model\n",
        "history_4 = model_4.fit(train_data,\n",
        "                        epochs=5,\n",
        "                        steps_per_epoch=len(train_data),\n",
        "                        validation_data=test_data,\n",
        "                        validation_steps=len(test_data))"
      ],
      "metadata": {
        "id": "g8gaePKaTcWi"
      },
      "execution_count": null,
      "outputs": []
    },
    {
      "cell_type": "code",
      "source": [
        "# Plot the training curves\n",
        "import pandas as pd\n",
        "pd.DataFrame(history_4.history).plot(figsize=(10, 7));"
      ],
      "metadata": {
        "id": "nrMtJXXUTcaA"
      },
      "execution_count": null,
      "outputs": []
    },
    {
      "cell_type": "code",
      "source": [
        "# Plot the validation and training data separately\n",
        "def plot_loss_curves(history):\n",
        "  \"\"\"\n",
        "  Returns separate loss curves for training and validation metrics.\n",
        "  \"\"\" \n",
        "  loss = history.history['loss']\n",
        "  val_loss = history.history['val_loss']\n",
        "\n",
        "  accuracy = history.history['accuracy']\n",
        "  val_accuracy = history.history['val_accuracy']\n",
        "\n",
        "  epochs = range(len(history.history['loss']))\n",
        "\n",
        "  # Plot loss\n",
        "  plt.plot(epochs, loss, label='training_loss')\n",
        "  plt.plot(epochs, val_loss, label='val_loss')\n",
        "  plt.title('Loss')\n",
        "  plt.xlabel('Epochs')\n",
        "  plt.legend()\n",
        "\n",
        "  # Plot accuracy\n",
        "  plt.figure()\n",
        "  plt.plot(epochs, accuracy, label='training_accuracy')\n",
        "  plt.plot(epochs, val_accuracy, label='val_accuracy')\n",
        "  plt.title('Accuracy')\n",
        "  plt.xlabel('Epochs')\n",
        "  plt.legend();"
      ],
      "metadata": {
        "id": "JFoIAh8zTcj9"
      },
      "execution_count": null,
      "outputs": []
    },
    {
      "cell_type": "code",
      "source": [
        "plot_loss_curves(history_4)"
      ],
      "metadata": {
        "id": "Ifp--98KTclm"
      },
      "execution_count": null,
      "outputs": []
    },
    {
      "cell_type": "code",
      "source": [
        "model_4.summary()"
      ],
      "metadata": {
        "id": "EBzrK7N7Tco4"
      },
      "execution_count": null,
      "outputs": []
    },
    {
      "cell_type": "code",
      "source": [
        "# Create the model (this can be our baseline, a 3 layer Convolutional Neural Network)\n",
        "model_5 = Sequential([\n",
        "  Conv2D(10, 3, activation='relu', input_shape=(224, 224, 3)),\n",
        "  MaxPool2D(pool_size=2), # reduce number of features by half\n",
        "  Conv2D(10, 3, activation='relu'),\n",
        "  MaxPool2D(),\n",
        "  Conv2D(10, 3, activation='relu'),\n",
        "  MaxPool2D(),\n",
        "  Flatten(),\n",
        "  Dense(1, activation='sigmoid')\n",
        "])"
      ],
      "metadata": {
        "id": "7oDIf6hCTcry"
      },
      "execution_count": null,
      "outputs": []
    },
    {
      "cell_type": "code",
      "source": [
        "# Compile model (same as model_4)\n",
        "model_5.compile(loss='binary_crossentropy',\n",
        "                optimizer=Adam(),\n",
        "                metrics=['accuracy'])"
      ],
      "metadata": {
        "id": "1vmDsvcgTc3I"
      },
      "execution_count": null,
      "outputs": []
    },
    {
      "cell_type": "code",
      "source": [
        "# Fit the model\n",
        "history_5 = model_5.fit(train_data,\n",
        "                        epochs=5,\n",
        "                        steps_per_epoch=len(train_data),\n",
        "                        validation_data=test_data,\n",
        "                        validation_steps=len(test_data))"
      ],
      "metadata": {
        "id": "xbsNzItnTc6A"
      },
      "execution_count": null,
      "outputs": []
    },
    {
      "cell_type": "code",
      "source": [
        "model_5.summary()"
      ],
      "metadata": {
        "id": "9TGJ0LP8Xfsk"
      },
      "execution_count": null,
      "outputs": []
    },
    {
      "cell_type": "code",
      "source": [
        "plot_loss_curves(history_5)"
      ],
      "metadata": {
        "id": "55XvsWJmUK8v"
      },
      "execution_count": null,
      "outputs": []
    },
    {
      "cell_type": "code",
      "source": [
        "# Create ImageDataGenerator training instance with data augmentation\n",
        "train_datagen_augmented = ImageDataGenerator(rescale=1/255.,\n",
        "                                             rotation_range=20, # rotate the image slightly between 0 and 20 degrees (note: this is an int not a float)\n",
        "                                             shear_range=0.2, # shear the image\n",
        "                                             zoom_range=0.2, # zoom into the image\n",
        "                                             width_shift_range=0.2, # shift the image width ways\n",
        "                                             height_shift_range=0.2, # shift the image height ways\n",
        "                                             horizontal_flip=True) # flip the image on the horizontal axis\n",
        "\n",
        "# Create ImageDataGenerator training instance without data augmentation\n",
        "train_datagen = ImageDataGenerator(rescale=1/255.) \n",
        "\n",
        "# Create ImageDataGenerator test instance without data augmentation\n",
        "test_datagen = ImageDataGenerator(rescale=1/255.)"
      ],
      "metadata": {
        "id": "4WSp11l5ULBB"
      },
      "execution_count": null,
      "outputs": []
    },
    {
      "cell_type": "code",
      "source": [
        "# Import data and augment it from training directory\n",
        "print(\"Augmented training images:\")\n",
        "train_data_augmented = train_datagen_augmented.flow_from_directory(train_dir,\n",
        "                                                                   target_size=(224, 224),\n",
        "                                                                   batch_size=32,\n",
        "                                                                   class_mode='binary',\n",
        "                                                                   shuffle=False) # Don't shuffle for demonstration purposes, usually a good thing to shuffle\n",
        "\n",
        "# Create non-augmented data batches\n",
        "print(\"Non-augmented training images:\")\n",
        "train_data = train_datagen.flow_from_directory(train_dir,\n",
        "                                               target_size=(224, 224),\n",
        "                                               batch_size=32,\n",
        "                                               class_mode='binary',\n",
        "                                               shuffle=False) # Don't shuffle for demonstration purposes\n",
        "\n",
        "print(\"Unchanged test images:\")\n",
        "test_data = test_datagen.flow_from_directory(test_dir,\n",
        "                                             target_size=(224, 224),\n",
        "                                             batch_size=32,\n",
        "                                             class_mode='binary')"
      ],
      "metadata": {
        "id": "dXpYM1WvULNj"
      },
      "execution_count": null,
      "outputs": []
    },
    {
      "cell_type": "code",
      "source": [
        "# Get data batch samples\n",
        "images, labels = train_data.next()\n",
        "augmented_images, augmented_labels = train_data_augmented.next() # Note: labels aren't augmented, they stay the same"
      ],
      "metadata": {
        "id": "3zd0vRjzULfD"
      },
      "execution_count": null,
      "outputs": []
    },
    {
      "cell_type": "code",
      "source": [
        "# Show original image and augmented image\n",
        "random_number = random.randint(0, 32) # we're making batches of size 32, so we'll get a random instance\n",
        "plt.imshow(images[random_number])\n",
        "plt.title(f\"Original image\")\n",
        "plt.axis(False)\n",
        "plt.figure()\n",
        "plt.imshow(augmented_images[random_number])\n",
        "plt.title(f\"Augmented image\")\n",
        "plt.axis(False);"
      ],
      "metadata": {
        "id": "3HgzQS4FULhK"
      },
      "execution_count": null,
      "outputs": []
    },
    {
      "cell_type": "code",
      "source": [
        "# Show original image and augmented image\n",
        "random_number = random.randint(0, 32) # we're making batches of size 32, so we'll get a random instance\n",
        "plt.imshow(images[random_number])\n",
        "plt.title(f\"Original image\")\n",
        "plt.axis(False)\n",
        "plt.figure()\n",
        "plt.imshow(augmented_images[random_number])\n",
        "plt.title(f\"Augmented image\")\n",
        "plt.axis(False);"
      ],
      "metadata": {
        "id": "yNr_bFZQULku"
      },
      "execution_count": null,
      "outputs": []
    },
    {
      "cell_type": "code",
      "source": [
        "plot_loss_curves(history_6)"
      ],
      "metadata": {
        "id": "RjZC4IL8ULnm"
      },
      "execution_count": null,
      "outputs": []
    },
    {
      "cell_type": "code",
      "source": [
        "train_data_augmented_shuffled = train_datagen_augmented.flow_from_directory(train_dir,\n",
        "                                                                            target_size=(224, 224),\n",
        "                                                                            batch_size=32,\n",
        "                                        "
      ],
      "metadata": {
        "id": "oKRUv3ZVULxi"
      },
      "execution_count": null,
      "outputs": []
    },
    {
      "cell_type": "code",
      "source": [
        "# Create the model (same as model_5 and model_6)\n",
        "model_7 = Sequential([\n",
        "  Conv2D(10, 3, activation='relu', input_shape=(224, 224, 3)),\n",
        "  MaxPool2D(),\n",
        "  Conv2D(10, 3, activation='relu'),\n",
        "  MaxPool2D(),\n",
        "  Conv2D(10, 3, activation='relu'),\n",
        "  MaxPool2D(),\n",
        "  Flatten(),\n",
        "  Dense(1, activation='sigmoid')\n",
        "])\n",
        "\n",
        "# Compile the model\n",
        "model_7.compile(loss='binary_crossentropy',\n",
        "                optimizer=Adam(),\n",
        "                metrics=['accuracy'])\n",
        "\n",
        "# Fit the model\n",
        "history_7 = model_7.fit(train_data_augmented_shuffled, # now the augmented data is shuffled\n",
        "                        epochs=5,\n",
        "                        steps_per_epoch=len(train_data_augmented_shuffled),\n",
        "                        validation_data=test_data,\n",
        "                        validation_steps=len(test_data))"
      ],
      "metadata": {
        "id": "wbSovuO1UL3Y"
      },
      "execution_count": null,
      "outputs": []
    },
    {
      "cell_type": "code",
      "source": [
        "plot_loss_curves(history_7)"
      ],
      "metadata": {
        "id": "yy9ST9hCUMDo"
      },
      "execution_count": null,
      "outputs": []
    },
    {
      "cell_type": "code",
      "source": [
        "# Create a CNN model (same as Tiny VGG but for binary classification - https://poloclub.github.io/cnn-explainer/ )\n",
        "model_8 = Sequential([\n",
        "  Conv2D(10, 3, activation='relu', input_shape=(224, 224, 3)), # same input shape as our images\n",
        "  Conv2D(10, 3, activation='relu'),\n",
        "  MaxPool2D(),\n",
        "  Conv2D(10, 3, activation='relu'),\n",
        "  Conv2D(10, 3, activation='relu'),\n",
        "  MaxPool2D(),\n",
        "  Flatten(),\n",
        "  Dense(1, activation='sigmoid')\n",
        "])\n",
        "\n",
        "# Compile the model\n",
        "model_8.compile(loss=\"binary_crossentropy\",\n",
        "                optimizer=tf.keras.optimizers.Adam(),\n",
        "                metrics=[\"accuracy\"])\n",
        "\n",
        "# Fit the model\n",
        "history_8 = model_8.fit(train_data_augmented_shuffled,\n",
        "                        epochs=5,\n",
        "                        steps_per_epoch=len(train_data_augmented_shuffled),\n",
        "                        validation_data=test_data,\n",
        "                        validation_steps=len(test_data))"
      ],
      "metadata": {
        "id": "3Aa_5uu6UMKT"
      },
      "execution_count": null,
      "outputs": []
    },
    {
      "cell_type": "code",
      "source": [
        "model_1.summary()"
      ],
      "metadata": {
        "id": "lwYTn-KWUMNQ"
      },
      "execution_count": null,
      "outputs": []
    },
    {
      "cell_type": "code",
      "source": [
        "# Check model_8 architecture (same as model_1)\n",
        "model_8.summary()"
      ],
      "metadata": {
        "id": "Zws9_VKiU8Tw"
      },
      "execution_count": null,
      "outputs": []
    },
    {
      "cell_type": "code",
      "source": [
        "plot_loss_curves(history_8)"
      ],
      "metadata": {
        "id": "ihqR41Y5U8cS"
      },
      "execution_count": null,
      "outputs": []
    },
    {
      "cell_type": "code",
      "source": [
        "plot_loss_curves(history_1)"
      ],
      "metadata": {
        "id": "tPjXTLllU8fI"
      },
      "execution_count": null,
      "outputs": []
    },
    {
      "cell_type": "code",
      "source": [
        "# Classes we're working with\n",
        "print(class_names)"
      ],
      "metadata": {
        "id": "EgJ1Rhb8U8rV"
      },
      "execution_count": null,
      "outputs": []
    },
    {
      "cell_type": "code",
      "source": [
        "# View our example image\n",
        "!wget https://raw.githubusercontent.com/mrdbourke/tensorflow-deep-learning/main/images/03-steak.jpeg \n",
        "steak = mpimg.imread(\"03-steak.jpeg\")\n",
        "plt.imshow(steak)\n",
        "plt.axis(False);"
      ],
      "metadata": {
        "id": "TzvGM_whU89a"
      },
      "execution_count": null,
      "outputs": []
    },
    {
      "cell_type": "code",
      "source": [
        "steak.shape"
      ],
      "metadata": {
        "id": "bQQyIqKnU9Ab"
      },
      "execution_count": null,
      "outputs": []
    },
    {
      "cell_type": "code",
      "source": [
        "# Create a function to import an image and resize it to be able to be used with our model\n",
        "def load_and_prep_image(filename, img_shape=224):\n",
        "  \"\"\"\n",
        "  Reads an image from filename, turns it into a tensor\n",
        "  and reshapes it to (img_shape, img_shape, colour_channel).\n",
        "  \"\"\"\n",
        "  # Read in target file (an image)\n",
        "  img = tf.io.read_file(filename)\n",
        "\n",
        "  # Decode the read file into a tensor & ensure 3 colour channels \n",
        "  # (our model is trained on images with 3 colour channels and sometimes images have 4 colour channels)\n",
        "  img = tf.image.decode_image(img, channels=3)\n",
        "\n",
        "  # Resize the image (to the same size our model was trained on)\n",
        "  img = tf.image.resize(img, size = [img_shape, img_shape])\n",
        "\n",
        "  # Rescale the image (get all values between 0 and 1)\n",
        "  img = img/255.\n",
        "  return img"
      ],
      "metadata": {
        "id": "QILQYT__U9Oh"
      },
      "execution_count": null,
      "outputs": []
    },
    {
      "cell_type": "code",
      "source": [
        "# Load in and preprocess our custom image\n",
        "steak = load_and_prep_image(\"03-steak.jpeg\")\n",
        "steak"
      ],
      "metadata": {
        "id": "Mtgd5n_8U9RY"
      },
      "execution_count": null,
      "outputs": []
    },
    {
      "cell_type": "code",
      "source": [
        "model_8.predict(steak)"
      ],
      "metadata": {
        "id": "yFFrmvaoU9d7"
      },
      "execution_count": null,
      "outputs": []
    },
    {
      "cell_type": "code",
      "source": [
        "# Add an extra axis\n",
        "print(f\"Shape before new dimension: {steak.shape}\")\n",
        "steak = tf.expand_dims(steak, axis=0) # add an extra dimension at axis 0\n",
        "#steak = steak[tf.newaxis, ...] # alternative to the above, '...' is short for 'every other dimension'\n",
        "print(f\"Shape after new dimension: {steak.shape}\")\n",
        "steak"
      ],
      "metadata": {
        "id": "P2OKDrUxU9gx"
      },
      "execution_count": null,
      "outputs": []
    },
    {
      "cell_type": "code",
      "source": [
        "pred = model_8.predict(steak)\n",
        "pred"
      ],
      "metadata": {
        "id": "spO7W9CuU9vW"
      },
      "execution_count": null,
      "outputs": []
    },
    {
      "cell_type": "code",
      "source": [
        "class_names"
      ],
      "metadata": {
        "id": "gIJckBCtVqVt"
      },
      "execution_count": null,
      "outputs": []
    },
    {
      "cell_type": "code",
      "source": [
        "pred_class = class_names[int(tf.round(pred)[0][0])]\n",
        "pred_class"
      ],
      "metadata": {
        "id": "xgNWhwesVqZn"
      },
      "execution_count": null,
      "outputs": []
    },
    {
      "cell_type": "code",
      "source": [
        "def pred_and_plot(model, filename, class_names):\n",
        "  \"\"\"\n",
        "  Imports an image located at filename, makes a prediction on it with\n",
        "  a trained model and plots the image with the predicted class as the title.\n",
        "  \"\"\"\n",
        "  # Import the target image and preprocess it\n",
        "  img = load_and_prep_image(filename)\n",
        "\n",
        "  # Make a prediction\n",
        "  pred = model.predict(tf.expand_dims(img, axis=0))\n",
        "\n",
        "  # Get the predicted class\n",
        "  pred_class = class_names[int(tf.round(pred)[0][0])]\n",
        "\n",
        "  # Plot the image and predicted class\n",
        "  plt.imshow(img)\n",
        "  plt.title(f\"Prediction: {pred_class}\")\n",
        "  plt.axis(False);"
      ],
      "metadata": {
        "id": "ufkrDbxgVq_s"
      },
      "execution_count": null,
      "outputs": []
    },
    {
      "cell_type": "code",
      "source": [
        "pred_and_plot(model_8, \"03-steak.jpeg\", class_names)"
      ],
      "metadata": {
        "id": "8CZiAQlDVrDq"
      },
      "execution_count": null,
      "outputs": []
    },
    {
      "cell_type": "code",
      "source": [
        "!wget https://raw.githubusercontent.com/mrdbourke/tensorflow-deep-learning/main/images/03-pizza-dad.jpeg \n",
        "pred_and_plot(model_8, \"03-pizza-dad.jpeg\", class_names)"
      ],
      "metadata": {
        "id": "gp5aAn8hVrOl"
      },
      "execution_count": null,
      "outputs": []
    },
    {
      "cell_type": "code",
      "source": [
        "import zipfile\n",
        "\n",
        "# Download zip file of 10_food_classes images\n",
        "# See how this data was created - https://github.com/mrdbourke/tensorflow-deep-learning/blob/main/extras/image_data_modification.ipynb\n",
        "!wget https://storage.googleapis.com/ztm_tf_course/food_vision/10_food_classes_all_data.zip \n",
        "\n",
        "# Unzip the downloaded file\n",
        "zip_ref = zipfile.ZipFile(\"10_food_classes_all_data.zip\", \"r\")\n",
        "zip_ref.extractall()\n",
        "zip_ref.close()"
      ],
      "metadata": {
        "id": "bHm8mMwkVrRc"
      },
      "execution_count": null,
      "outputs": []
    },
    {
      "cell_type": "code",
      "source": [
        "import os\n",
        "\n",
        "# Walk through 10_food_classes directory and list number of files\n",
        "for dirpath, dirnames, filenames in os.walk(\"10_food_classes_all_data\"):\n",
        "  print(f\"There are {len(dirnames)} directories and {len(filenames)} images in '{dirpath}'.\")"
      ],
      "metadata": {
        "id": "LNWy_AyTVrYJ"
      },
      "execution_count": null,
      "outputs": []
    },
    {
      "cell_type": "code",
      "source": [
        "train_dir = \"10_food_classes_all_data/train/\"\n",
        "test_dir = \"10_food_classes_all_data/test/\""
      ],
      "metadata": {
        "id": "W5HOMvzqVrbg"
      },
      "execution_count": null,
      "outputs": []
    },
    {
      "cell_type": "code",
      "source": [
        "# Get the class names for our multi-class dataset\n",
        "import pathlib\n",
        "import numpy as np\n",
        "data_dir = pathlib.Path(train_dir)\n",
        "class_names = np.array(sorted([item.name for item in data_dir.glob('*')]))\n",
        "print(class_names)"
      ],
      "metadata": {
        "id": "Z8SSyDQPVrlk"
      },
      "execution_count": null,
      "outputs": []
    },
    {
      "cell_type": "code",
      "source": [
        "# View a random image from the training dataset\n",
        "import random\n",
        "img = view_random_image(target_dir=train_dir,\n",
        "                        target_class=random.choice(class_names)) # get a random class name"
      ],
      "metadata": {
        "id": "Xt7GnPp-Vrod"
      },
      "execution_count": null,
      "outputs": []
    },
    {
      "cell_type": "code",
      "source": [
        "from tensorflow.keras.preprocessing.image import ImageDataGenerator\n",
        "\n",
        "# Rescale the data and create data generator instances\n",
        "train_datagen = ImageDataGenerator(rescale=1/255.)\n",
        "test_datagen = ImageDataGenerator(rescale=1/255.)\n",
        "\n",
        "# Load data in from directories and turn it into batches\n",
        "train_data = train_datagen.flow_from_directory(train_dir,\n",
        "                                               target_size=(224, 224),\n",
        "                                               batch_size=32,\n",
        "                                               class_mode='categorical') # changed to categorical\n",
        "\n",
        "test_data = train_datagen.flow_from_directory(test_dir,\n",
        "                                              target_size=(224, 224),\n",
        "                                              batch_size=32,\n",
        "                                              class_mode='categorical')"
      ],
      "metadata": {
        "id": "dV5_nMxaVr7T"
      },
      "execution_count": null,
      "outputs": []
    },
    {
      "cell_type": "code",
      "source": [
        "import tensorflow as tf\n",
        "from tensorflow.keras.models import Sequential\n",
        "from tensorflow.keras.layers import Conv2D, MaxPool2D, Flatten, Dense\n",
        "\n",
        "# Create our model (a clone of model_8, except to be multi-class)\n",
        "model_9 = Sequential([\n",
        "  Conv2D(10, 3, activation='relu', input_shape=(224, 224, 3)),\n",
        "  Conv2D(10, 3, activation='relu'),\n",
        "  MaxPool2D(),\n",
        "  Conv2D(10, 3, activation='relu'),\n",
        "  Conv2D(10, 3, activation='relu'),\n",
        "  MaxPool2D(),\n",
        "  Flatten(),\n",
        "  Dense(10, activation='softmax') # changed to have 10 neurons (same as number of classes) and 'softmax' activation\n",
        "])\n",
        "\n",
        "# Compile the model\n",
        "model_9.compile(loss=\"categorical_crossentropy\", # changed to categorical_crossentropy\n",
        "                optimizer=tf.keras.optimizers.Adam(),\n",
        "                metrics=[\"accuracy\"])"
      ],
      "metadata": {
        "id": "avgJGz2AWS35"
      },
      "execution_count": null,
      "outputs": []
    },
    {
      "cell_type": "code",
      "source": [
        "# Fit the model\n",
        "history_9 = model_9.fit(train_data, # now 10 different classes \n",
        "                        epochs=5,\n",
        "                        steps_per_epoch=len(train_data),\n",
        "                        validation_data=test_data,\n",
        "                        validation_steps=len(test_data))"
      ],
      "metadata": {
        "id": "tvFyDNgoWTDn"
      },
      "execution_count": null,
      "outputs": []
    },
    {
      "cell_type": "code",
      "source": [
        "model_9.evaluate(test_data)"
      ],
      "metadata": {
        "id": "OGhEjgtZWT1F"
      },
      "execution_count": null,
      "outputs": []
    },
    {
      "cell_type": "code",
      "source": [
        "plot_loss_curves(history_9)"
      ],
      "metadata": {
        "id": "PXUekJYRWT9c"
      },
      "execution_count": null,
      "outputs": []
    },
    {
      "cell_type": "code",
      "source": [
        "# Try a simplified model (removed two layers)\n",
        "model_10 = Sequential([\n",
        "  Conv2D(10, 3, activation='relu', input_shape=(224, 224, 3)),\n",
        "  MaxPool2D(),\n",
        "  Conv2D(10, 3, activation='relu'),\n",
        "  MaxPool2D(),\n",
        "  Flatten(),\n",
        "  Dense(10, activation='softmax')\n",
        "])\n",
        "\n",
        "model_10.compile(loss='categorical_crossentropy',\n",
        "                 optimizer=tf.keras.optimizers.Adam(),\n",
        "                 metrics=['accuracy'])\n",
        "\n",
        "history_10 = model_10.fit(train_data,\n",
        "                          epochs=5,\n",
        "                          steps_per_epoch=len(train_data),\n",
        "                          validation_data=test_data,\n",
        "                          validation_steps=len(test_data))"
      ],
      "metadata": {
        "id": "iZdF_S5BWUCs"
      },
      "execution_count": null,
      "outputs": []
    },
    {
      "cell_type": "code",
      "source": [
        "plot_loss_curves(history_10)"
      ],
      "metadata": {
        "id": "F0RTTbaRWVId"
      },
      "execution_count": null,
      "outputs": []
    },
    {
      "cell_type": "code",
      "source": [
        "# Create augmented data generator instance\n",
        "train_datagen_augmented = ImageDataGenerator(rescale=1/255.,\n",
        "                                             rotation_range=20, # note: this is an int not a float\n",
        "                                             width_shift_range=0.2,\n",
        "                                             height_shift_range=0.2,\n",
        "                                             zoom_range=0.2,\n",
        "                                             horizontal_flip=True)\n",
        "\n",
        "train_data_augmented = train_datagen_augmented.flow_from_directory(train_dir,\n",
        "                                                                  target_size=(224, 224),\n",
        "                                                                  batch_size=32,\n",
        "                                                                  class_mode='categorical')"
      ],
      "metadata": {
        "id": "f1RSUVIRWVV6"
      },
      "execution_count": null,
      "outputs": []
    },
    {
      "cell_type": "code",
      "source": [
        "# Clone the model (use the same architecture)\n",
        "model_11 = tf.keras.models.clone_model(model_10)\n",
        "\n",
        "# Compile the cloned model (same setup as used for model_10)\n",
        "model_11.compile(loss=\"categorical_crossentropy\",\n",
        "              optimizer=tf.keras.optimizers.Adam(),\n",
        "              metrics=[\"accuracy\"])\n",
        "\n",
        "# Fit the model\n",
        "history_11 = model_11.fit(train_data_augmented, # use augmented data\n",
        "                          epochs=5,\n",
        "                          steps_per_epoch=len(train_data_augmented),\n",
        "                          validation_data=test_data,\n",
        "                          validation_steps=len(test_data))"
      ],
      "metadata": {
        "id": "82-4TimbWVfl"
      },
      "execution_count": null,
      "outputs": []
    },
    {
      "cell_type": "code",
      "source": [
        "plot_loss_curves(history_11)"
      ],
      "metadata": {
        "id": "nuuJrVcKWVoV"
      },
      "execution_count": null,
      "outputs": []
    },
    {
      "cell_type": "code",
      "source": [
        "class_names"
      ],
      "metadata": {
        "id": "iCjKZ3ftWVyT"
      },
      "execution_count": null,
      "outputs": []
    },
    {
      "cell_type": "code",
      "source": [
        "# -q is for \"quiet\"\n",
        "!wget -q https://raw.githubusercontent.com/mrdbourke/tensorflow-deep-learning/main/images/03-pizza-dad.jpeg\n",
        "!wget -q https://raw.githubusercontent.com/mrdbourke/tensorflow-deep-learning/main/images/03-steak.jpeg\n",
        "!wget -q https://raw.githubusercontent.com/mrdbourke/tensorflow-deep-learning/main/images/03-hamburger.jpeg\n",
        "!wget -q https://raw.githubusercontent.com/mrdbourke/tensorflow-deep-learning/main/images/03-sushi.jpeg"
      ],
      "metadata": {
        "id": "FvuPCJgzWV-M"
      },
      "execution_count": null,
      "outputs": []
    },
    {
      "cell_type": "code",
      "source": [
        "pred_and_plot(model=model_11, \n",
        "              filename=\"03-steak.jpeg\", \n",
        "              class_names=class_names)"
      ],
      "metadata": {
        "id": "NUiuX61hXDdl"
      },
      "execution_count": null,
      "outputs": []
    },
    {
      "cell_type": "code",
      "source": [
        "pred_and_plot(model_11, \"03-sushi.jpeg\", class_names)"
      ],
      "metadata": {
        "id": "vZWyP8l7XDgd"
      },
      "execution_count": null,
      "outputs": []
    },
    {
      "cell_type": "code",
      "source": [
        "pred_and_plot(model_11, \"03-pizza-dad.jpeg\", class_names)"
      ],
      "metadata": {
        "id": "rd6z1KjDXEM0"
      },
      "execution_count": null,
      "outputs": []
    },
    {
      "cell_type": "code",
      "source": [
        "# Load in and preprocess our custom image\n",
        "img = load_and_prep_image(\"03-steak.jpeg\")\n",
        "\n",
        "# Make a prediction\n",
        "pred = model_11.predict(tf.expand_dims(img, axis=0))\n",
        "\n",
        "# Match the prediction class to the highest prediction probability\n",
        "pred_class = class_names[pred.argmax()]\n",
        "plt.imshow(img)\n",
        "plt.title(pred_class)\n",
        "plt.axis(False);"
      ],
      "metadata": {
        "id": "qvJJqJ8_XEQA"
      },
      "execution_count": null,
      "outputs": []
    },
    {
      "cell_type": "code",
      "source": [
        "pred = model_11.predict(tf.expand_dims(img, axis=0))\n",
        "pred"
      ],
      "metadata": {
        "id": "iUNp4k0dXEfD"
      },
      "execution_count": null,
      "outputs": []
    },
    {
      "cell_type": "code",
      "source": [
        "class_names[pred.argmax()]"
      ],
      "metadata": {
        "id": "yDS5WS99XEiJ"
      },
      "execution_count": null,
      "outputs": []
    },
    {
      "cell_type": "code",
      "source": [
        "# Adjust function to work with multi-class\n",
        "def pred_and_plot(model, filename, class_names):\n",
        "  \"\"\"\n",
        "  Imports an image located at filename, makes a prediction on it with\n",
        "  a trained model and plots the image with the predicted class as the title.\n",
        "  \"\"\"\n",
        "  # Import the target image and preprocess it\n",
        "  img = load_and_prep_image(filename)\n",
        "\n",
        "  # Make a prediction\n",
        "  pred = model.predict(tf.expand_dims(img, axis=0))\n",
        "\n",
        "  # Get the predicted class\n",
        "  if len(pred[0]) > 1: # check for multi-class\n",
        "    pred_class = class_names[pred.argmax()] # if more than one output, take the max\n",
        "  else:\n",
        "    pred_class = class_names[int(tf.round(pred)[0][0])] # if only one output, round\n",
        "\n",
        "  # Plot the image and predicted class\n",
        "  plt.imshow(img)\n",
        "  plt.title(f\"Prediction: {pred_class}\")\n",
        "  plt.axis(False);"
      ],
      "metadata": {
        "id": "9dbzveQ9XErl"
      },
      "execution_count": null,
      "outputs": []
    },
    {
      "cell_type": "code",
      "source": [
        "pred_and_plot(model_11, \"03-steak.jpeg\", class_names)"
      ],
      "metadata": {
        "id": "emea_nfdXEuG"
      },
      "execution_count": null,
      "outputs": []
    },
    {
      "cell_type": "code",
      "source": [
        "pred_and_plot(model_11, \"03-sushi.jpeg\", class_names)"
      ],
      "metadata": {
        "id": "1ayZpxBCXEyP"
      },
      "execution_count": null,
      "outputs": []
    },
    {
      "cell_type": "code",
      "source": [
        "pred_and_plot(model_11, \"03-pizza-dad.jpeg\", class_names)"
      ],
      "metadata": {
        "id": "u_V9XsObXE1O"
      },
      "execution_count": null,
      "outputs": []
    },
    {
      "cell_type": "code",
      "source": [
        "pred_and_plot(model_11, \"03-hamburger.jpeg\", class_names)"
      ],
      "metadata": {
        "id": "AaCT8--oXE3s"
      },
      "execution_count": null,
      "outputs": []
    },
    {
      "cell_type": "code",
      "source": [
        "# Save a model\n",
        "model_11.save(\"saved_trained_model\")"
      ],
      "metadata": {
        "id": "qD4mYEytXpZ8"
      },
      "execution_count": null,
      "outputs": []
    },
    {
      "cell_type": "code",
      "source": [
        "loaded_model_11 = tf.keras.models.load_model(\"saved_trained_model\")\n",
        "loaded_model_11.evaluate(test_data)"
      ],
      "metadata": {
        "id": "qszhjUODXpl2"
      },
      "execution_count": null,
      "outputs": []
    },
    {
      "cell_type": "code",
      "source": [
        "model_11.evaluate(test_data)"
      ],
      "metadata": {
        "id": "ZP9OhwYJXpp8"
      },
      "execution_count": null,
      "outputs": []
    },
    {
      "cell_type": "code",
      "source": [],
      "metadata": {
        "id": "yf_cRrH0Xpt-"
      },
      "execution_count": null,
      "outputs": []
    },
    {
      "cell_type": "code",
      "source": [],
      "metadata": {
        "id": "KlsUfCxaXp2Q"
      },
      "execution_count": null,
      "outputs": []
    },
    {
      "cell_type": "code",
      "source": [],
      "metadata": {
        "id": "AQB21qSHXp5C"
      },
      "execution_count": null,
      "outputs": []
    },
    {
      "cell_type": "code",
      "source": [],
      "metadata": {
        "id": "D7gAyuyCXqGx"
      },
      "execution_count": null,
      "outputs": []
    },
    {
      "cell_type": "code",
      "source": [],
      "metadata": {
        "id": "i83tZqxWXqKG"
      },
      "execution_count": null,
      "outputs": []
    }
  ]
}